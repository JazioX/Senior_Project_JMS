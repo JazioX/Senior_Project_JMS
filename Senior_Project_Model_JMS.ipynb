{
  "nbformat": 4,
  "nbformat_minor": 0,
  "metadata": {
    "colab": {
      "provenance": []
    },
    "kernelspec": {
      "name": "python3",
      "display_name": "Python 3"
    },
    "language_info": {
      "name": "python"
    }
  },
  "cells": [
    {
      "cell_type": "code",
      "execution_count": null,
      "metadata": {
        "id": "Su5F6GDCQJJK"
      },
      "outputs": [],
      "source": [
        "import pandas as pd\n",
        "import numpy as np\n",
        "import seaborn as sns\n",
        "import matplotlib.pyplot as plt\n",
        "from sklearn.ensemble import RandomForestClassifier \n",
        "from sklearn.model_selection import GridSearchCV \n",
        "from sklearn.pipeline import Pipeline \n",
        "from sklearn.base import BaseEstimator, TransformerMixin\n",
        "from sklearn.impute import SimpleImputer\n",
        "from sklearn.preprocessing import OneHotEncoder\n",
        "from sklearn.preprocessing import StandardScaler \n",
        "from google.colab import drive \n",
        "drive.mount('/content/gDrive')\n"
      ]
    },
    {
      "cell_type": "code",
      "source": [
        "# Import train and test set\n",
        "train_df = pd.read_csv('/content/gDrive/MyDrive/Colab Notebooks/train.csv')\n",
        "test_df = pd.read_csv('/content/gDrive/MyDrive/Colab Notebooks/test.csv')"
      ],
      "metadata": {
        "id": "xxS736TKSy-X"
      },
      "execution_count": null,
      "outputs": []
    },
    {
      "cell_type": "code",
      "source": [
        "# View the training dataset and confirm the content\n",
        "train_df.head(15)"
      ],
      "metadata": {
        "id": "fkEa9kiwjHZb"
      },
      "execution_count": null,
      "outputs": []
    },
    {
      "cell_type": "code",
      "source": [
        "# View the testing dataset and conform the content \n",
        "test_df.head(15)"
      ],
      "metadata": {
        "id": "vIJZUnIXjQdr"
      },
      "execution_count": null,
      "outputs": []
    },
    {
      "cell_type": "code",
      "source": [
        "#Get the statistics of the train dataset\n",
        "train_df.describe()"
      ],
      "metadata": {
        "id": "ycZrZ8QecgcE"
      },
      "execution_count": null,
      "outputs": []
    },
    {
      "cell_type": "code",
      "source": [
        "# Get the statitsics of the test dataset \n",
        "test_df.describe()"
      ],
      "metadata": {
        "id": "b-fAqx-cjxhf"
      },
      "execution_count": null,
      "outputs": []
    },
    {
      "cell_type": "code",
      "source": [
        "# Get a count of who survived\n",
        "train_df['Survived'].value_counts()"
      ],
      "metadata": {
        "id": "lYkzS--CdFRS"
      },
      "execution_count": null,
      "outputs": []
    },
    {
      "cell_type": "code",
      "source": [
        "# Get the information of the training and testing datasets to see what I am missing\n",
        "train_df.info()"
      ],
      "metadata": {
        "id": "F9nx3LlUp7u8"
      },
      "execution_count": null,
      "outputs": []
    },
    {
      "cell_type": "code",
      "source": [
        "test_df.info()"
      ],
      "metadata": {
        "id": "lMNjs9VbqFxu"
      },
      "execution_count": null,
      "outputs": []
    },
    {
      "cell_type": "code",
      "source": [
        "# Cabin impute using 'NA'\n",
        "train_df['Cabin'] = train_df['Cabin'].fillna('NA') \n",
        "test_df['Cabin'] = test_df['Cabin'].fillna('NA')"
      ],
      "metadata": {
        "id": "lhbaT0cL_g8E"
      },
      "execution_count": null,
      "outputs": []
    },
    {
      "cell_type": "code",
      "source": [
        "train_df.info()"
      ],
      "metadata": {
        "id": "pBD31wcemTD6"
      },
      "execution_count": null,
      "outputs": []
    },
    {
      "cell_type": "code",
      "source": [
        "# Visualize the Sex info\n",
        "sns.countplot(data=train_df, x='Sex').set(title='Sex')\n",
        "plt.show()"
      ],
      "metadata": {
        "id": "HCt9z4EZ0HZj"
      },
      "execution_count": null,
      "outputs": []
    },
    {
      "cell_type": "code",
      "source": [
        "# Visualize overall Survival info 0=Did not survive 1=Survived\n",
        "sns.countplot(data = train_df, x='Survived').set(title='Survival')\n",
        "plt.show()"
      ],
      "metadata": {
        "id": "RyiPQOh9entZ"
      },
      "execution_count": null,
      "outputs": []
    },
    {
      "cell_type": "code",
      "source": [
        "# Visualize PClass\n",
        "sns.countplot(data=train_df, x='Pclass').set(title='Pclass')\n",
        "plt.show()"
      ],
      "metadata": {
        "id": "KeoZGTnExAze"
      },
      "execution_count": null,
      "outputs": []
    },
    {
      "cell_type": "code",
      "source": [
        "# Visualize the relationship between sex and those that survived\n",
        "sns.countplot(data=train_df, x='Sex', hue='Survived').set(title='Sex and Survival')\n",
        "plt.show()"
      ],
      "metadata": {
        "id": "rF35iE5H0k7W"
      },
      "execution_count": null,
      "outputs": []
    },
    {
      "cell_type": "code",
      "source": [
        "# Visualize the relationship between Pclass and survival \n",
        "sns.countplot(data=train_df, x='Pclass', hue='Sex').set(title='PClass and Sex')\n",
        "plt.show()"
      ],
      "metadata": {
        "id": "LWQFJRDE1ika"
      },
      "execution_count": null,
      "outputs": []
    },
    {
      "cell_type": "code",
      "source": [
        "# Survived and Age relationship\n",
        "sns.boxplot(data=train_df, x='Survived', y='Age',).set(title='Survived and Age')\n",
        "plt.show()"
      ],
      "metadata": {
        "id": "DvPcEXar7M3f"
      },
      "execution_count": null,
      "outputs": []
    },
    {
      "cell_type": "code",
      "source": [
        "# Prepare the dataset \n",
        "train_df = pd.read_csv('/content/gDrive/MyDrive/Colab Notebooks/train.csv')\n",
        "X = train_df['Sex'] # input dataset\n",
        "y = test_df['Pclass'] # output dataset\n",
        "\n",
        "sns.heatmap(train_df.corr(), cmap=\"YlGnBu\")\n",
        "plt.show()"
      ],
      "metadata": {
        "id": "-7bWrgCz-0HZ"
      },
      "execution_count": null,
      "outputs": []
    },
    {
      "cell_type": "code",
      "source": [
        "# Fills the missing values of age\n",
        "class AgeImputer(BaseEstimator, TransformerMixin):\n",
        "  def fit(self, X, y = None):\n",
        "    return self\n",
        "  def transform(self, X):\n",
        "    imputer = SimpleImputer(strategy='mean')\n",
        "    X['Age'] = imputer.fit_transform(X[['Age']])\n",
        "    return X "
      ],
      "metadata": {
        "id": "pTUQop3Ajr1W"
      },
      "execution_count": null,
      "outputs": []
    },
    {
      "cell_type": "code",
      "source": [
        "# # Create a OneHotEncoder that creates columns that are assigned binary values of 1 or 0.\n",
        "# # This is so the pipeline can read everything\n",
        "# class FeatureEncoder(BaseEstimator, TransformerMixin):\n",
        "#   def fit(self, X, y = None):\n",
        "#     return self\n",
        "\n",
        "# # Create encoder and matrix \n",
        "#   def transform(self, X):\n",
        "#     encoder = OneHotEncoder()\n",
        "#     matrix = encoder.fit_transform(X[['Embarked']]).toarray()\n",
        "\n",
        "#     # Change values into binary columns\n",
        "#     column_name = ['C', 'S', 'Q', 'H'] \n",
        "\n",
        "#     for i in range(len(matrix.T)):\n",
        "#       X[column_name[i]] = matrix.T[i]\n",
        "    \n",
        "#     matrix = encoder.fit_transform(X[['Sex']]).toarray()\n",
        "\n",
        "#     column_name = ['Female', 'Male']\n",
        "\n",
        "#     for i in range(len(matrix.T)):\n",
        "#       X[column_name[i]] = matrix.T[i]\n",
        "\n",
        "#       return X \n",
        "\n",
        "# class FeatureDropper(BaseEstimator, TransformerMixin):\n",
        "#   def fit(self, X, y = None):\n",
        "#     return self\n",
        "\n",
        "#   def transform(self, X):\n",
        "#     return X.drop(['Name', 'Ticket', 'Cabin', 'Sex'], axis = 1, errors = 'ignore')\n"
      ],
      "metadata": {
        "id": "PDk5YCeoAFVb"
      },
      "execution_count": null,
      "outputs": []
    },
    {
      "cell_type": "code",
      "source": [
        "# This is the actual pipeline\n",
        "# pipeline = Pipeline([('ageImputer', AgeImputer()), \n",
        "#                      ('featureEncoder', FeatureEncoder()), \n",
        "#                      ('featureDropper', FeatureDropper()) ])"
      ],
      "metadata": {
        "id": "dhW88ZoROk6P"
      },
      "execution_count": null,
      "outputs": []
    },
    {
      "cell_type": "code",
      "source": [
        "# train_df = pipeline.fit_transform(train_df)"
      ],
      "metadata": {
        "id": "0Yqjfr_uP9HM"
      },
      "execution_count": null,
      "outputs": []
    },
    {
      "cell_type": "code",
      "source": [
        "# scaler = StandardScaler()\n",
        "# X_data = scaler.fit_transform(X)\n",
        "# y_data = y.to_numpy()"
      ],
      "metadata": {
        "id": "GdA-0-F5lBIG"
      },
      "execution_count": null,
      "outputs": []
    },
    {
      "cell_type": "code",
      "source": [
        "# Create a random forest classifier and grid to search through\n",
        "# This was where the predictions and accuracy score was supposed to take place, but I did not finish.\n",
        "classifier = RandomForestClassifier()\n",
        "\n",
        "parameter_grid = [\n",
        "    {'n_estimators': [10, 100, 200, 300], 'max_depth': [None, 5, 10], 'min_samples_split': [2,3, 4]}\n",
        "]\n",
        "\n",
        "# Search the grid with 3 folds\n",
        "grid_search = GridSearchCV(classifier, parameter_grid, cv=3, scoring='accuracy', return_train_score = True)\n",
        "grid_search"
      ],
      "metadata": {
        "id": "LtDpYmNciifx"
      },
      "execution_count": null,
      "outputs": []
    }
  ]
}